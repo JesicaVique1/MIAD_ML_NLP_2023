{
 "cells": [
  {
   "cell_type": "markdown",
   "metadata": {},
   "source": [
    "![image info](https://raw.githubusercontent.com/albahnsen/MIAD_ML_and_NLP/main/images/banner_1.png)"
   ]
  },
  {
   "cell_type": "markdown",
   "metadata": {},
   "source": [
    "# Taller: Tokenización de textos  \n",
    "\n",
    "En este taller podrán poner en práctica sus conocimientos sobre preprocesamiento de texto (tokenización). El taller está constituido por 5 puntos, en los cuales deberan seguir las intrucciones de cada numeral para su desarrollo."
   ]
  },
  {
   "cell_type": "markdown",
   "metadata": {},
   "source": [
    "## Datos detección de toxicidad en comentarios\n",
    "\n",
    "En este taller se usará el conjunto de datos de detección de toxicidad en comentarios de la base de datos de Kaggle. Cada observación es un comentario que tiene como variable objetivo (target) la probabilidad de ser un comentario tóxico. El objetivo es predecir la toxicidad de cada comentario. Para más detalles pueden visitar el siguiente enlace: [datos](https://www.kaggle.com/c/jigsaw-unintended-bias-in-toxicity-classification/data)."
   ]
  },
  {
   "cell_type": "code",
   "execution_count": 1,
   "metadata": {},
   "outputs": [],
   "source": [
    "import warnings\n",
    "warnings.filterwarnings('ignore')"
   ]
  },
  {
   "cell_type": "code",
   "execution_count": 2,
   "metadata": {},
   "outputs": [],
   "source": [
    "# Importación librerías\n",
    "import pandas as pd\n",
    "import numpy as np\n",
    "import scipy as sp\n",
    "from sklearn.model_selection import train_test_split, cross_val_score\n",
    "from sklearn.feature_extraction.text import CountVectorizer, TfidfVectorizer\n",
    "from sklearn import metrics\n",
    "%matplotlib inline\n",
    "from sklearn.linear_model import LinearRegression\n",
    "from sklearn.tree import DecisionTreeRegressor\n",
    "from sklearn.metrics import mean_squared_error\n",
    "import time\n",
    "import xgboost as xgb"
   ]
  },
  {
   "cell_type": "code",
   "execution_count": 3,
   "metadata": {},
   "outputs": [
    {
     "data": {
      "text/html": [
       "<div>\n",
       "<style scoped>\n",
       "    .dataframe tbody tr th:only-of-type {\n",
       "        vertical-align: middle;\n",
       "    }\n",
       "\n",
       "    .dataframe tbody tr th {\n",
       "        vertical-align: top;\n",
       "    }\n",
       "\n",
       "    .dataframe thead th {\n",
       "        text-align: right;\n",
       "    }\n",
       "</style>\n",
       "<table border=\"1\" class=\"dataframe\">\n",
       "  <thead>\n",
       "    <tr style=\"text-align: right;\">\n",
       "      <th></th>\n",
       "      <th>id</th>\n",
       "      <th>comment_text</th>\n",
       "      <th>target</th>\n",
       "    </tr>\n",
       "  </thead>\n",
       "  <tbody>\n",
       "    <tr>\n",
       "      <th>0</th>\n",
       "      <td>6101457</td>\n",
       "      <td>What are you talking about? What group do Pete...</td>\n",
       "      <td>0.0</td>\n",
       "    </tr>\n",
       "    <tr>\n",
       "      <th>1</th>\n",
       "      <td>5342103</td>\n",
       "      <td>NO!, Let him, we need a Conservative government.</td>\n",
       "      <td>0.0</td>\n",
       "    </tr>\n",
       "    <tr>\n",
       "      <th>2</th>\n",
       "      <td>743361</td>\n",
       "      <td>Perhaps he took the \"power out of the Cardinal...</td>\n",
       "      <td>0.2</td>\n",
       "    </tr>\n",
       "    <tr>\n",
       "      <th>3</th>\n",
       "      <td>551008</td>\n",
       "      <td>As always, yours is dripping with sarcasm, whi...</td>\n",
       "      <td>0.0</td>\n",
       "    </tr>\n",
       "    <tr>\n",
       "      <th>4</th>\n",
       "      <td>865998</td>\n",
       "      <td>The dirty little secret is that the price rang...</td>\n",
       "      <td>0.3</td>\n",
       "    </tr>\n",
       "  </tbody>\n",
       "</table>\n",
       "</div>"
      ],
      "text/plain": [
       "        id                                       comment_text  target\n",
       "0  6101457  What are you talking about? What group do Pete...     0.0\n",
       "1  5342103   NO!, Let him, we need a Conservative government.     0.0\n",
       "2   743361  Perhaps he took the \"power out of the Cardinal...     0.2\n",
       "3   551008  As always, yours is dripping with sarcasm, whi...     0.0\n",
       "4   865998  The dirty little secret is that the price rang...     0.3"
      ]
     },
     "execution_count": 3,
     "metadata": {},
     "output_type": "execute_result"
    }
   ],
   "source": [
    "# Carga de datos de archivos .csv\n",
    "df = pd.read_csv('https://raw.githubusercontent.com/albahnsen/MIAD_ML_and_NLP/main/datasets/Toxicity.zip')\n",
    "df = df[['id','comment_text', 'target']]\n",
    "df.head()"
   ]
  },
  {
   "cell_type": "code",
   "execution_count": 4,
   "metadata": {},
   "outputs": [
    {
     "data": {
      "text/plain": [
       "<AxesSubplot:>"
      ]
     },
     "execution_count": 4,
     "metadata": {},
     "output_type": "execute_result"
    },
    {
     "data": {
      "image/png": "[encoded data removed]",
      "text/plain": [
       "<Figure size 640x480 with 1 Axes>"
      ]
     },
     "metadata": {},
     "output_type": "display_data"
    }
   ],
   "source": [
    "# Impresión histograma de variable de interés (y)\n",
    "df.target.hist()"
   ]
  },
  {
   "cell_type": "code",
   "execution_count": 5,
   "metadata": {},
   "outputs": [
    {
     "data": {
      "text/plain": [
       "count    541462.000000\n",
       "mean          0.102991\n",
       "std           0.196979\n",
       "min           0.000000\n",
       "25%           0.000000\n",
       "50%           0.000000\n",
       "75%           0.166667\n",
       "max           1.000000\n",
       "Name: target, dtype: float64"
      ]
     },
     "execution_count": 5,
     "metadata": {},
     "output_type": "execute_result"
    }
   ],
   "source": [
    "# Separación de variable de interés (y)\n",
    "y = df.target\n",
    "y.describe()"
   ]
  },
  {
   "cell_type": "code",
   "execution_count": 6,
   "metadata": {},
   "outputs": [],
   "source": [
    "# Separación de variables predictoras (X), solo se considera el texto de la noticia\n",
    "X = df.comment_text"
   ]
  },
  {
   "cell_type": "code",
   "execution_count": 7,
   "metadata": {},
   "outputs": [],
   "source": [
    "# Separación de datos en set de entrenamiento y test\n",
    "X_train, X_test, y_train, y_test = train_test_split(X, y, test_size=0.33, random_state=42)"
   ]
  },
  {
   "cell_type": "markdown",
   "metadata": {},
   "source": [
    "## Punto 1 - Tokenización con CountVectorizer\n",
    "\n",
    "En la celda 1 creen y entrenen el modelo de regresión de su preferencia, para que prediga la probabilidad de que un comentario sea tóxico, usando los set de entrenamiento y test definidos anteriormente. Usen la función **CountVectorizer** para preprocesar los comentarios y presenten el desempeño del modelo con la métrica del MSE.\n",
    "\n",
    "Recuerden que el preprocesamiento que se haga sobre los datos de entrenamiento  (*.fit_transform()*) deben ser aplicado al set de test (*.transform()*)."
   ]
  },
  {
   "cell_type": "code",
   "execution_count": 12,
   "metadata": {},
   "outputs": [
    {
     "name": "stdout",
     "output_type": "stream",
     "text": [
      "Collecting xgboost\n",
      "  Downloading xgboost-1.7.5-py3-none-win_amd64.whl (70.9 MB)\n",
      "     --------------------------------------- 70.9/70.9 MB 17.2 MB/s eta 0:00:00\n",
      "Requirement already satisfied: scipy in c:\\users\\jeanv\\anaconda3\\lib\\site-packages (from xgboost) (1.9.1)\n",
      "Requirement already satisfied: numpy in c:\\users\\jeanv\\anaconda3\\lib\\site-packages (from xgboost) (1.21.5)\n",
      "Installing collected packages: xgboost\n",
      "Successfully installed xgboost-1.7.5\n"
     ]
    }
   ],
   "source": [
    "!pip install xgboost"
   ]
  },
  {
   "cell_type": "code",
   "execution_count": 13,
   "metadata": {},
   "outputs": [
    {
     "name": "stdout",
     "output_type": "stream",
     "text": [
      "MSE del modelo:  0.020749476727491955\n"
     ]
    }
   ],
   "source": [
    "#Celda1\n",
    "\n",
    "# Preprocesamiento de los datos de entrenamiento con CountVectorizer\n",
    "count_vect = CountVectorizer(lowercase=True)\n",
    "train_counts = count_vect.fit_transform(X_train)\n",
    "\n",
    "# Entrenamiento del modelo XGBoost\n",
    "xgb_model = xgb.XGBRegressor()\n",
    "xgb_model.fit(train_counts, y_train)\n",
    "\n",
    "# Preprocesamiento de los datos de prueba con CountVectorizer\n",
    "test_counts = count_vect.transform(X_test)\n",
    "\n",
    "# Predicciones y evaluación del modelo utilizando la métrica de MSE\n",
    "predictions = xgb_model.predict(test_counts)\n",
    "mse_xgboost = mean_squared_error(y_test, predictions)\n",
    "print(\"MSE del modelo: \", mse_xgboost)\n"
   ]
  },
  {
   "cell_type": "code",
   "execution_count": 8,
   "metadata": {},
   "outputs": [
    {
     "data": {
      "text/plain": [
       "101388    Oral history is what ever they say it is.  Naz...\n",
       "187598    Marijuana is less harmful to human health, tha...\n",
       "175087    Look and see how many women are in photos of t...\n",
       "521167    see like others we stood up to south africa ye...\n",
       "343059                And next, they'll be coming for ISIS.\n",
       "                                ...                        \n",
       "110268    It's sad that BC can only choose between Liber...\n",
       "259178    I'll stick to the estimates from Walter E. Wil...\n",
       "365838    Isn't this exactly what Trump (and Obama befor...\n",
       "131932    \"no loyalty to them\", I assume you mean.\\nExac...\n",
       "121958    You apparently have not really studied the gos...\n",
       "Name: comment_text, Length: 362779, dtype: object"
      ]
     },
     "execution_count": 8,
     "metadata": {},
     "output_type": "execute_result"
    }
   ],
   "source": [
    "X_train"
   ]
  },
  {
   "cell_type": "code",
   "execution_count": 9,
   "metadata": {},
   "outputs": [
    {
     "data": {
      "text/plain": [
       "101388    0.0\n",
       "187598    0.0\n",
       "175087    0.0\n",
       "521167    0.0\n",
       "343059    0.0\n",
       "         ... \n",
       "110268    0.2\n",
       "259178    0.0\n",
       "365838    0.0\n",
       "131932    0.0\n",
       "121958    0.0\n",
       "Name: target, Length: 362779, dtype: float64"
      ]
     },
     "execution_count": 9,
     "metadata": {},
     "output_type": "execute_result"
    }
   ],
   "source": [
    "y_train"
   ]
  },
  {
   "cell_type": "markdown",
   "metadata": {},
   "source": [
    "## Punto 2 - Tokenización con CountVectorizer y trigramas\n",
    "\n",
    "En la celda 2 creen y entrenen el mismo modelo de regresión del punto anterior (es decir si usaron un RandomForestRegresor usen nuevamente ese regresor), para que prediga la probabilidad de que un comentario sea tóxico, usando los set de entrenamiento y test definidos anteriormente. Usen la función CountVectorizer **considerando trigramas** para preprocesar los comentarios y presenten el desempeño del modelo con la métrica del MSE.\n",
    "\n",
    "Recuerden que el preprocesamiento que se haga sobre los datos de entrenamiento  (*.fit_transform()*) deben ser aplicado al set de test (*.transform()*)."
   ]
  },
  {
   "cell_type": "code",
   "execution_count": 16,
   "metadata": {},
   "outputs": [
    {
     "name": "stdout",
     "output_type": "stream",
     "text": [
      "MSE del modelo:  0.020656004628689325\n"
     ]
    }
   ],
   "source": [
    "#Celda2\n",
    "# Preprocesamiento de los datos de entrenamiento con CountVectorizer y Trigramas\n",
    "count_vect = CountVectorizer(lowercase=True, ngram_range=(1, 3))\n",
    "train_counts = count_vect.fit_transform(X_train)\n",
    "\n",
    "# Entrenamiento del modelo XGBoost\n",
    "xgb_model = xgb.XGBRegressor()\n",
    "xgb_model.fit(train_counts, y_train)\n",
    "\n",
    "# Preprocesamiento de los datos de prueba con CountVectorizer\n",
    "test_counts = count_vect.transform(X_test)\n",
    "\n",
    "# Predicciones y evaluación del modelo utilizando la métrica de MSE\n",
    "predictions = xgb_model.predict(test_counts)\n",
    "mse_xgboost_trigram = mean_squared_error(y_test, predictions)\n",
    "print(\"MSE del modelo: \", mse_xgboost_trigram)"
   ]
  },
  {
   "cell_type": "markdown",
   "metadata": {},
   "source": [
    "## Punto 3 - TfidfVectorizer\n",
    "\n",
    "Investigen sobre la función TfidfVectorizer. En la celda de texto 3, expliquen en qué consiste esta técnica de tokenización (describanla y expliquen su funcionamiento) y cúales son las ventajas o deventajas de su uso al compararlo con la función CountVectorizer."
   ]
  },
  {
   "cell_type": "markdown",
   "metadata": {},
   "source": [
    "La función **TfidfVectorizer** es una técnica de tokenización que se utiliza para convertir texto en vectores numéricos utilizando la frecuencia inversa de documentos de términos (TF-IDF, por sus siglas en inglés).\n",
    "\n",
    "La idea detrás del TF-IDF es que las palabras que aparecen con frecuencia en un documento tienen menos valor discriminatorio para la clasificación que las palabras que aparecen en pocos documentos. Por lo tanto, el TF-IDF asigna un peso mayor a las palabras que aparecen en pocos documentos y un peso menor a las palabras que aparecen en muchos documentos. La fórmula para calcular el TF-IDF de un término es:\n",
    "\n",
    "                                                  TF-IDF = TF * IDF\n",
    "\n",
    "donde TF (frecuencia de término) es la frecuencia con la que aparece un término en un documento y IDF (frecuencia inversa de documentos) mide la rareza del término en el conjunto de documentos. La fórmula para calcular IDF es:\n",
    "\n",
    "                                                   IDF = log(N / df)\n",
    "\n",
    "donde N es el número total de documentos en el conjunto y df es el número de documentos que contienen el término.\n",
    "\n",
    "La función TfidfVectorizer de Scikit-learn implementa esta técnica de tokenización. Al igual que CountVectorizer, TfidfVectorizer toma un corpus de texto como entrada y devuelve una matriz de vectores numéricos. Sin embargo, en lugar de contar simplemente la frecuencia de cada palabra en cada documento, TfidfVectorizer calcula el TF-IDF de cada palabra en cada documento. Además, TfidfVectorizer también realiza un preprocesamiento de texto que incluye la eliminación de stopwords y la normalización de mayúsculas y minúsculas.\n",
    "\n",
    "Una ventaja del uso de TfidfVectorizer en comparación con CountVectorizer es que los términos más comunes en el corpus de texto (como las stopwords) tienen un peso menor en el cálculo de TF-IDF, lo que puede mejorar la calidad de los modelos de aprendizaje automático. Además, TfidfVectorizer puede manejar mejor la presencia de términos raros y poco frecuentes en el corpus.\n",
    "\n",
    "Una desventaja del uso de TfidfVectorizer es que puede ser más lento que CountVectorizer, ya que implica el cálculo de la frecuencia inversa de documentos. Además, TfidfVectorizer puede no ser adecuado para todos los conjuntos de datos y modelos de aprendizaje automático, y puede requerir ajustes adicionales de parámetros para obtener un buen rendimiento."
   ]
  },
  {
   "cell_type": "markdown",
   "metadata": {},
   "source": [
    "## Punto 4 - Tokenización con TfidfVectorizer\n",
    "\n",
    "En la celda 4 creen y entrenen el mismo modelo de regresión del primer punto, para que prediga la probabilidad de que un comentario sea tóxico, usando los set de entrenamiento y test definidos anteriormente. Procesen los comentarios con la función **TfidfVectorizer** y presenten el desempeño del modelo con la métrica del MSE.\n",
    "\n",
    "Recuerden que el preprocesamiento que se haga sobre los datos de entrenamiento  (*.fit_transform()*) deben ser aplicado al set de test (*.transform()*)."
   ]
  },
  {
   "cell_type": "code",
   "execution_count": 15,
   "metadata": {},
   "outputs": [
    {
     "name": "stdout",
     "output_type": "stream",
     "text": [
      "MSE del modelo:  0.020343818478258637\n"
     ]
    }
   ],
   "source": [
    "#Celda 4\n",
    "# Preprocesamiento de los datos de entrenamiento con TfidfVectorizer\n",
    "tfidf = TfidfVectorizer()\n",
    "X_train_tfidf = tfidf.fit_transform(X_train)\n",
    "\n",
    "# Entrenamiento del modelo XGBoost\n",
    "xgb_model = xgb.XGBRegressor()\n",
    "xgb_model.fit(X_train_tfidf, y_train)\n",
    "\n",
    "# Preprocesamiento de los datos de prueba con CountVectorizer\n",
    "X_test_tfidf = tfidf.transform(X_test)\n",
    "\n",
    "# Predicciones y evaluación del modelo utilizando la métrica de MSE\n",
    "predictions = xgb_model.predict(X_test_tfidf)\n",
    "mse_xgboost_Tfid = mean_squared_error(y_test, predictions)\n",
    "print(\"MSE del modelo: \", mse_xgboost_Tfid)\n"
   ]
  },
  {
   "cell_type": "markdown",
   "metadata": {},
   "source": [
    "## Punto 5 - Comparación y análisis de resultados\n",
    "\n",
    "En la celda 5 comparen los resultados obtenidos de los diferentes modelos y comenten cómo el preprocesamiento de texto afecta el desempeño."
   ]
  },
  {
   "cell_type": "code",
   "execution_count": 24,
   "metadata": {},
   "outputs": [
    {
     "data": {
      "image/png": "[encoded data removed]",
      "text/plain": [
       "<Figure size 1000x500 with 1 Axes>"
      ]
     },
     "metadata": {},
     "output_type": "display_data"
    }
   ],
   "source": [
    "#Celda 5\n",
    "#Gráficar y comparar MSE XGBoost\n",
    "\n",
    "import matplotlib.pyplot as plt\n",
    "fig = plt.figure(figsize=(10,5))\n",
    "ax = fig.add_axes([0,0,1,1])\n",
    "ax.set_title(\"Comparación de técnicas mediante MSE\", fontsize=16)\n",
    "ax.set_xlabel(\"Técnicas tokenización\", fontsize=14)\n",
    "ax.set_ylabel(\"MSE\", fontsize=14)\n",
    "ejeX = ['CountVectorizer-Trigrama', 'TfidfVectorizer', 'CountVectorizer']\n",
    "ejeY = [mse_xgboost_trigram, mse_xgboost_Tfid, mse_xgboost]\n",
    "colors = ['tab:green', 'tab:orange', 'tab:blue']\n",
    "ejeX, ejeY = zip(*sorted(zip(ejeX, ejeY), key=lambda x: x[1]))\n",
    "ax.bar(ejeX,ejeY, color=colors)\n",
    "\n",
    "def addlabels(x,y,plotP):\n",
    "    for i in range(len(x)):\n",
    "        plotP.text(i,y[i], round(y[i],4), ha='center', va='bottom', fontsize=12)\n",
    "addlabels(ejeX,ejeY,ax)\n",
    "plt.show()"
   ]
  },
  {
   "cell_type": "markdown",
   "metadata": {},
   "source": [
    "Según las diferentes técnicas aplicadas y el preprocesamiento de datos realizado, se puede evidenciar para el caso de ejemplo a pesar que el CountVectorizer mediante trigramas tiene el mayor tiempo de procesamiento, no mejora significativamente el modelo a partir de la métrica MSE respecto al modelo sin aplicar trigramas, obteniendo el mismo MSE para ambos; por su parte, la implementación de la función FfidfVectorizer obtuvo un mejor MSE (0.0203) respecto a las demás técnicas y funciones."
   ]
  }
 ],
 "metadata": {
  "kernelspec": {
   "display_name": "Python 3 (ipykernel)",
   "language": "python",
   "name": "python3"
  },
  "language_info": {
   "codemirror_mode": {
    "name": "ipython",
    "version": 3
   },
   "file_extension": ".py",
   "mimetype": "text/x-python",
   "name": "python",
   "nbconvert_exporter": "python",
   "pygments_lexer": "ipython3",
   "version": "3.9.13"
  },
  "name": "_merged"
 },
 "nbformat": 4,
 "nbformat_minor": 4
}
